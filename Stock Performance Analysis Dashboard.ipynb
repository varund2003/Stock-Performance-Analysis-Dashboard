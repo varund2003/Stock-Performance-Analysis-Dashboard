{
 "cells": [
  {
   "cell_type": "code",
   "execution_count": 1,
   "id": "7d4db16c",
   "metadata": {},
   "outputs": [
    {
     "name": "stdout",
     "output_type": "stream",
     "text": [
      "Collecting yfinance\n",
      "  Obtaining dependency information for yfinance from https://files.pythonhosted.org/packages/14/03/3c854ca3e02eedf614abba4b2e177c469bf3af58207fa30d5098c5d652fe/yfinance-0.2.37-py2.py3-none-any.whl.metadata\n",
      "  Downloading yfinance-0.2.37-py2.py3-none-any.whl.metadata (11 kB)\n",
      "Requirement already satisfied: beautifulsoup4 in c:\\users\\dvaru\\anaconda3\\lib\\site-packages (4.12.2)\n",
      "Requirement already satisfied: requests in c:\\users\\dvaru\\anaconda3\\lib\\site-packages (2.31.0)\n",
      "Requirement already satisfied: plotly in c:\\users\\dvaru\\anaconda3\\lib\\site-packages (5.9.0)\n",
      "Collecting dash\n",
      "  Obtaining dependency information for dash from https://files.pythonhosted.org/packages/b2/10/388c4a697275417a6974033e6ea7235d61e648e6c39d9cc06fcc6a6f71d4/dash-2.15.0-py3-none-any.whl.metadata\n",
      "  Downloading dash-2.15.0-py3-none-any.whl.metadata (11 kB)\n",
      "Requirement already satisfied: pandas>=1.3.0 in c:\\users\\dvaru\\anaconda3\\lib\\site-packages (from yfinance) (2.0.3)\n",
      "Requirement already satisfied: numpy>=1.16.5 in c:\\users\\dvaru\\anaconda3\\lib\\site-packages (from yfinance) (1.24.3)\n",
      "Collecting multitasking>=0.0.7 (from yfinance)\n",
      "  Obtaining dependency information for multitasking>=0.0.7 from https://files.pythonhosted.org/packages/3e/8a/bb3160e76e844db9e69a413f055818969c8acade64e1a9ac5ce9dfdcf6c1/multitasking-0.0.11-py3-none-any.whl.metadata\n",
      "  Downloading multitasking-0.0.11-py3-none-any.whl.metadata (5.5 kB)\n",
      "Requirement already satisfied: lxml>=4.9.1 in c:\\users\\dvaru\\anaconda3\\lib\\site-packages (from yfinance) (4.9.3)\n",
      "Requirement already satisfied: appdirs>=1.4.4 in c:\\users\\dvaru\\anaconda3\\lib\\site-packages (from yfinance) (1.4.4)\n",
      "Requirement already satisfied: pytz>=2022.5 in c:\\users\\dvaru\\anaconda3\\lib\\site-packages (from yfinance) (2023.3.post1)\n",
      "Collecting frozendict>=2.3.4 (from yfinance)\n",
      "  Downloading frozendict-2.4.0.tar.gz (314 kB)\n",
      "     ---------------------------------------- 0.0/314.6 kB ? eta -:--:--\n",
      "     --- --------------------------------- 30.7/314.6 kB 660.6 kB/s eta 0:00:01\n",
      "     ---------- -------------------------- 92.2/314.6 kB 871.5 kB/s eta 0:00:01\n",
      "     ------------------------------ ------- 256.0/314.6 kB 1.7 MB/s eta 0:00:01\n",
      "     -------------------------------------- 314.6/314.6 kB 1.6 MB/s eta 0:00:00\n",
      "  Installing build dependencies: started\n",
      "  Installing build dependencies: finished with status 'done'\n",
      "  Getting requirements to build wheel: started\n",
      "  Getting requirements to build wheel: finished with status 'done'\n",
      "  Preparing metadata (pyproject.toml): started\n",
      "  Preparing metadata (pyproject.toml): finished with status 'done'\n",
      "Collecting peewee>=3.16.2 (from yfinance)\n",
      "  Downloading peewee-3.17.1.tar.gz (3.0 MB)\n",
      "     ---------------------------------------- 0.0/3.0 MB ? eta -:--:--\n",
      "     --- ------------------------------------ 0.3/3.0 MB 16.6 MB/s eta 0:00:01\n",
      "     ----- ---------------------------------- 0.4/3.0 MB 5.4 MB/s eta 0:00:01\n",
      "     ------- -------------------------------- 0.6/3.0 MB 4.4 MB/s eta 0:00:01\n",
      "     ---------- ----------------------------- 0.8/3.0 MB 4.5 MB/s eta 0:00:01\n",
      "     ------------- -------------------------- 1.0/3.0 MB 4.5 MB/s eta 0:00:01\n",
      "     ----------------- ---------------------- 1.3/3.0 MB 4.8 MB/s eta 0:00:01\n",
      "     ------------------- -------------------- 1.5/3.0 MB 4.7 MB/s eta 0:00:01\n",
      "     --------------------- ------------------ 1.6/3.0 MB 4.5 MB/s eta 0:00:01\n",
      "     ------------------------ --------------- 1.8/3.0 MB 4.4 MB/s eta 0:00:01\n",
      "     ----------------------------- ---------- 2.2/3.0 MB 4.7 MB/s eta 0:00:01\n",
      "     -------------------------------- ------- 2.4/3.0 MB 4.7 MB/s eta 0:00:01\n",
      "     ---------------------------------- ----- 2.6/3.0 MB 4.7 MB/s eta 0:00:01\n",
      "     ------------------------------------- -- 2.8/3.0 MB 4.7 MB/s eta 0:00:01\n",
      "     ---------------------------------------  2.9/3.0 MB 4.6 MB/s eta 0:00:01\n",
      "     ---------------------------------------- 3.0/3.0 MB 4.5 MB/s eta 0:00:00\n",
      "  Installing build dependencies: started\n",
      "  Installing build dependencies: finished with status 'done'\n",
      "  Getting requirements to build wheel: started\n",
      "  Getting requirements to build wheel: finished with status 'done'\n",
      "  Preparing metadata (pyproject.toml): started\n",
      "  Preparing metadata (pyproject.toml): finished with status 'done'\n",
      "Collecting html5lib>=1.1 (from yfinance)\n",
      "  Obtaining dependency information for html5lib>=1.1 from https://files.pythonhosted.org/packages/6c/dd/a834df6482147d48e225a49515aabc28974ad5a4ca3215c18a882565b028/html5lib-1.1-py2.py3-none-any.whl.metadata\n",
      "  Downloading html5lib-1.1-py2.py3-none-any.whl.metadata (16 kB)\n",
      "Requirement already satisfied: soupsieve>1.2 in c:\\users\\dvaru\\anaconda3\\lib\\site-packages (from beautifulsoup4) (2.4)\n",
      "Requirement already satisfied: charset-normalizer<4,>=2 in c:\\users\\dvaru\\anaconda3\\lib\\site-packages (from requests) (2.0.4)\n",
      "Requirement already satisfied: idna<4,>=2.5 in c:\\users\\dvaru\\anaconda3\\lib\\site-packages (from requests) (3.4)\n",
      "Requirement already satisfied: urllib3<3,>=1.21.1 in c:\\users\\dvaru\\anaconda3\\lib\\site-packages (from requests) (1.26.16)\n",
      "Requirement already satisfied: certifi>=2017.4.17 in c:\\users\\dvaru\\anaconda3\\lib\\site-packages (from requests) (2023.7.22)\n",
      "Requirement already satisfied: tenacity>=6.2.0 in c:\\users\\dvaru\\anaconda3\\lib\\site-packages (from plotly) (8.2.2)\n",
      "Requirement already satisfied: Flask<3.1,>=1.0.4 in c:\\users\\dvaru\\anaconda3\\lib\\site-packages (from dash) (2.2.2)\n",
      "Requirement already satisfied: Werkzeug<3.1 in c:\\users\\dvaru\\anaconda3\\lib\\site-packages (from dash) (2.2.3)\n",
      "Collecting dash-html-components==2.0.0 (from dash)\n",
      "  Obtaining dependency information for dash-html-components==2.0.0 from https://files.pythonhosted.org/packages/75/65/1b16b853844ef59b2742a7de74a598f376ac0ab581f0dcc34db294e5c90e/dash_html_components-2.0.0-py3-none-any.whl.metadata\n",
      "  Downloading dash_html_components-2.0.0-py3-none-any.whl.metadata (3.8 kB)\n",
      "Collecting dash-core-components==2.0.0 (from dash)\n",
      "  Obtaining dependency information for dash-core-components==2.0.0 from https://files.pythonhosted.org/packages/00/9e/a29f726e84e531a36d56cff187e61d8c96d2cc253c5bcef9a7695acb7e6a/dash_core_components-2.0.0-py3-none-any.whl.metadata\n",
      "  Downloading dash_core_components-2.0.0-py3-none-any.whl.metadata (2.9 kB)\n",
      "Collecting dash-table==5.0.0 (from dash)\n",
      "  Obtaining dependency information for dash-table==5.0.0 from https://files.pythonhosted.org/packages/da/ce/43f77dc8e7bbad02a9f88d07bf794eaf68359df756a28bb9f2f78e255bb1/dash_table-5.0.0-py3-none-any.whl.metadata\n",
      "  Downloading dash_table-5.0.0-py3-none-any.whl.metadata (2.4 kB)\n",
      "Requirement already satisfied: typing-extensions>=4.1.1 in c:\\users\\dvaru\\anaconda3\\lib\\site-packages (from dash) (4.7.1)\n",
      "Collecting retrying (from dash)\n",
      "  Obtaining dependency information for retrying from https://files.pythonhosted.org/packages/8f/04/9e36f28be4c0532c0e9207ff9dc01fb13a2b0eb036476a213b0000837d0e/retrying-1.3.4-py3-none-any.whl.metadata\n",
      "  Downloading retrying-1.3.4-py3-none-any.whl.metadata (6.9 kB)\n",
      "Requirement already satisfied: nest-asyncio in c:\\users\\dvaru\\anaconda3\\lib\\site-packages (from dash) (1.5.6)\n",
      "Requirement already satisfied: setuptools in c:\\users\\dvaru\\anaconda3\\lib\\site-packages (from dash) (68.0.0)\n",
      "Requirement already satisfied: importlib-metadata in c:\\users\\dvaru\\anaconda3\\lib\\site-packages (from dash) (6.0.0)\n",
      "Requirement already satisfied: Jinja2>=3.0 in c:\\users\\dvaru\\anaconda3\\lib\\site-packages (from Flask<3.1,>=1.0.4->dash) (3.1.2)\n",
      "Requirement already satisfied: itsdangerous>=2.0 in c:\\users\\dvaru\\anaconda3\\lib\\site-packages (from Flask<3.1,>=1.0.4->dash) (2.0.1)\n",
      "Requirement already satisfied: click>=8.0 in c:\\users\\dvaru\\anaconda3\\lib\\site-packages (from Flask<3.1,>=1.0.4->dash) (8.0.4)\n",
      "Requirement already satisfied: six>=1.9 in c:\\users\\dvaru\\anaconda3\\lib\\site-packages (from html5lib>=1.1->yfinance) (1.16.0)\n",
      "Requirement already satisfied: webencodings in c:\\users\\dvaru\\anaconda3\\lib\\site-packages (from html5lib>=1.1->yfinance) (0.5.1)\n",
      "Requirement already satisfied: python-dateutil>=2.8.2 in c:\\users\\dvaru\\anaconda3\\lib\\site-packages (from pandas>=1.3.0->yfinance) (2.8.2)\n",
      "Requirement already satisfied: tzdata>=2022.1 in c:\\users\\dvaru\\anaconda3\\lib\\site-packages (from pandas>=1.3.0->yfinance) (2023.3)\n",
      "Requirement already satisfied: MarkupSafe>=2.1.1 in c:\\users\\dvaru\\anaconda3\\lib\\site-packages (from Werkzeug<3.1->dash) (2.1.1)\n",
      "Requirement already satisfied: zipp>=0.5 in c:\\users\\dvaru\\anaconda3\\lib\\site-packages (from importlib-metadata->dash) (3.11.0)\n",
      "Requirement already satisfied: colorama in c:\\users\\dvaru\\anaconda3\\lib\\site-packages (from click>=8.0->Flask<3.1,>=1.0.4->dash) (0.4.6)\n",
      "Downloading yfinance-0.2.37-py2.py3-none-any.whl (72 kB)\n",
      "   ---------------------------------------- 0.0/73.0 kB ? eta -:--:--\n",
      "   ---------------------------------------- 73.0/73.0 kB 3.9 MB/s eta 0:00:00\n",
      "Downloading dash-2.15.0-py3-none-any.whl (10.2 MB)\n",
      "   ---------------------------------------- 0.0/10.2 MB ? eta -:--:--\n",
      "    --------------------------------------- 0.2/10.2 MB 6.9 MB/s eta 0:00:02\n",
      "   - -------------------------------------- 0.5/10.2 MB 4.8 MB/s eta 0:00:03\n",
      "   --- ------------------------------------ 1.0/10.2 MB 6.8 MB/s eta 0:00:02\n",
      "   ----- ---------------------------------- 1.3/10.2 MB 6.8 MB/s eta 0:00:02\n",
      "   ------ --------------------------------- 1.7/10.2 MB 7.9 MB/s eta 0:00:02\n",
      "   -------- ------------------------------- 2.1/10.2 MB 8.0 MB/s eta 0:00:02\n",
      "   --------- ------------------------------ 2.4/10.2 MB 8.2 MB/s eta 0:00:01\n",
      "   --------- ------------------------------ 2.5/10.2 MB 7.4 MB/s eta 0:00:02\n",
      "   ----------- ---------------------------- 2.9/10.2 MB 7.2 MB/s eta 0:00:02\n",
      "   ----------- ---------------------------- 3.1/10.2 MB 6.7 MB/s eta 0:00:02\n",
      "   ------------ --------------------------- 3.2/10.2 MB 6.5 MB/s eta 0:00:02\n",
      "   ------------- -------------------------- 3.3/10.2 MB 6.1 MB/s eta 0:00:02\n",
      "   -------------- ------------------------- 3.8/10.2 MB 6.4 MB/s eta 0:00:02\n",
      "   --------------- ------------------------ 4.1/10.2 MB 6.4 MB/s eta 0:00:01\n",
      "   ----------------- ---------------------- 4.3/10.2 MB 6.5 MB/s eta 0:00:01\n",
      "   ----------------- ---------------------- 4.6/10.2 MB 6.2 MB/s eta 0:00:01\n",
      "   ------------------- -------------------- 4.9/10.2 MB 6.3 MB/s eta 0:00:01\n",
      "   -------------------- ------------------- 5.3/10.2 MB 6.3 MB/s eta 0:00:01\n",
      "   ---------------------- ----------------- 5.7/10.2 MB 6.5 MB/s eta 0:00:01\n",
      "   ----------------------- ---------------- 5.9/10.2 MB 6.5 MB/s eta 0:00:01\n",
      "   ------------------------ --------------- 6.1/10.2 MB 6.3 MB/s eta 0:00:01\n",
      "   ------------------------- -------------- 6.4/10.2 MB 6.3 MB/s eta 0:00:01\n",
      "   -------------------------- ------------- 6.7/10.2 MB 6.3 MB/s eta 0:00:01\n",
      "   --------------------------- ------------ 6.9/10.2 MB 6.2 MB/s eta 0:00:01\n",
      "   --------------------------- ------------ 7.1/10.2 MB 6.2 MB/s eta 0:00:01\n",
      "   ----------------------------- ---------- 7.4/10.2 MB 6.1 MB/s eta 0:00:01\n",
      "   ------------------------------ --------- 7.8/10.2 MB 6.3 MB/s eta 0:00:01\n",
      "   ------------------------------- -------- 8.2/10.2 MB 6.3 MB/s eta 0:00:01\n",
      "   -------------------------------- ------- 8.3/10.2 MB 6.2 MB/s eta 0:00:01\n",
      "   -------------------------------- ------- 8.4/10.2 MB 6.1 MB/s eta 0:00:01\n",
      "   --------------------------------- ------ 8.7/10.2 MB 6.0 MB/s eta 0:00:01\n",
      "   ----------------------------------- ---- 9.1/10.2 MB 6.1 MB/s eta 0:00:01\n",
      "   ------------------------------------ --- 9.3/10.2 MB 6.2 MB/s eta 0:00:01\n",
      "   ------------------------------------- -- 9.7/10.2 MB 6.1 MB/s eta 0:00:01\n",
      "   -------------------------------------- - 9.9/10.2 MB 6.1 MB/s eta 0:00:01\n",
      "   ---------------------------------------  10.2/10.2 MB 6.1 MB/s eta 0:00:01\n",
      "   ---------------------------------------- 10.2/10.2 MB 5.9 MB/s eta 0:00:00\n",
      "Downloading dash_core_components-2.0.0-py3-none-any.whl (3.8 kB)\n",
      "Downloading dash_html_components-2.0.0-py3-none-any.whl (4.1 kB)\n",
      "Downloading dash_table-5.0.0-py3-none-any.whl (3.9 kB)\n",
      "Downloading html5lib-1.1-py2.py3-none-any.whl (112 kB)\n",
      "   ---------------------------------------- 0.0/112.2 kB ? eta -:--:--\n",
      "   ---------------------------------------- 112.2/112.2 kB ? eta 0:00:00\n",
      "Downloading multitasking-0.0.11-py3-none-any.whl (8.5 kB)\n",
      "Downloading retrying-1.3.4-py3-none-any.whl (11 kB)\n",
      "Building wheels for collected packages: frozendict, peewee\n",
      "  Building wheel for frozendict (pyproject.toml): started\n",
      "  Building wheel for frozendict (pyproject.toml): finished with status 'done'\n",
      "  Created wheel for frozendict: filename=frozendict-2.4.0-py3-none-any.whl size=15471 sha256=a30d955feab6f0906d6be5b616fe20874c7eb749c64d1fc349fceb76ce85f301\n",
      "  Stored in directory: c:\\users\\dvaru\\appdata\\local\\pip\\cache\\wheels\\31\\dd\\81\\a814e6f8cde8a1bbc1f088fdc273943371f10478b91a605e14\n",
      "  Building wheel for peewee (pyproject.toml): started\n",
      "  Building wheel for peewee (pyproject.toml): finished with status 'done'\n",
      "  Created wheel for peewee: filename=peewee-3.17.1-py3-none-any.whl size=136948 sha256=c552ea722c2dd0304a3cd5f8db48e69dccd22997f4edff41d648d08e679fc8ab\n",
      "  Stored in directory: c:\\users\\dvaru\\appdata\\local\\pip\\cache\\wheels\\33\\d2\\ca\\79b9807826bc7ef0b86a1ee28c372daaf073f9aa8756eedd7f\n",
      "Successfully built frozendict peewee\n",
      "Installing collected packages: peewee, multitasking, dash-table, dash-html-components, dash-core-components, retrying, html5lib, frozendict, yfinance, dash\n",
      "Successfully installed dash-2.15.0 dash-core-components-2.0.0 dash-html-components-2.0.0 dash-table-5.0.0 frozendict-2.4.0 html5lib-1.1 multitasking-0.0.11 peewee-3.17.1 retrying-1.3.4 yfinance-0.2.37\n"
     ]
    }
   ],
   "source": [
    "!pip install yfinance beautifulsoup4 requests plotly dash\n"
   ]
  },
  {
   "cell_type": "code",
   "execution_count": 2,
   "id": "7e241477",
   "metadata": {},
   "outputs": [],
   "source": [
    "import yfinance as yf\n",
    "import requests\n",
    "from bs4 import BeautifulSoup\n",
    "import pandas as pd\n",
    "import plotly.express as px\n",
    "import dash\n",
    "from dash import dcc, html\n",
    "from dash.dependencies import Input, Output"
   ]
  },
  {
   "cell_type": "markdown",
   "id": "113f7721",
   "metadata": {},
   "source": [
    "## Question 1: Use yfinance to Extract Stock Data"
   ]
  },
  {
   "cell_type": "code",
   "execution_count": 4,
   "id": "c284d1e3",
   "metadata": {},
   "outputs": [],
   "source": [
    "def get_stock_data(symbol, start_date, end_date):\n",
    "    stock_data = yf.download(symbol, start=start_date, end=end_date)\n",
    "    return stock_data"
   ]
  },
  {
   "cell_type": "markdown",
   "id": "cadc230f",
   "metadata": {},
   "source": [
    "##  Question 2: Use Webscraping to Extract Tesla Revenue Data"
   ]
  },
  {
   "cell_type": "code",
   "execution_count": 5,
   "id": "ddd338d9",
   "metadata": {},
   "outputs": [],
   "source": [
    "def get_revenue_data(url):\n",
    "    response = requests.get(url)\n",
    "    soup = BeautifulSoup(response.text, 'html.parser')\n",
    "   \n",
    "    revenue = None  # Placeholder, replace with actual scraping logic\n",
    "    return revenue"
   ]
  },
  {
   "cell_type": "code",
   "execution_count": 6,
   "id": "4b32c93f",
   "metadata": {},
   "outputs": [],
   "source": [
    "tesla_revenue_url = \"https://www.macrotrends.net/stocks/charts/TSLA/tesla/revenue\"\n",
    "gamestop_revenue_url = \"https://www.macrotrends.net/stocks/charts/GME/gamestop/revenue\"\n"
   ]
  },
  {
   "cell_type": "markdown",
   "id": "1cc87765",
   "metadata": {},
   "source": [
    "## Question 3: Use yfinance to Extract Stock Data"
   ]
  },
  {
   "cell_type": "code",
   "execution_count": 7,
   "id": "f6555c08",
   "metadata": {},
   "outputs": [
    {
     "name": "stderr",
     "output_type": "stream",
     "text": [
      "[*********************100%%**********************]  1 of 1 completed\n"
     ]
    }
   ],
   "source": [
    "tesla_stock_data = get_stock_data(\"TSLA\", \"2023-01-01\", \"2024-01-01\")"
   ]
  },
  {
   "cell_type": "code",
   "execution_count": 8,
   "id": "433dde0d",
   "metadata": {},
   "outputs": [],
   "source": [
    "tesla_revenue = get_revenue_data(tesla_revenue_url)"
   ]
  },
  {
   "cell_type": "markdown",
   "id": "7c7b7e9f",
   "metadata": {},
   "source": [
    "## Question 4: Use Webscraping to Extract GME Revenue Data"
   ]
  },
  {
   "cell_type": "code",
   "execution_count": 9,
   "id": "b0932a53",
   "metadata": {},
   "outputs": [
    {
     "name": "stderr",
     "output_type": "stream",
     "text": [
      "[*********************100%%**********************]  1 of 1 completed\n"
     ]
    }
   ],
   "source": [
    "gamestop_stock_data = get_stock_data(\"GME\", \"2023-01-01\", \"2024-01-01\")\n",
    "gamestop_revenue = get_revenue_data(gamestop_revenue_url)"
   ]
  },
  {
   "cell_type": "markdown",
   "id": "2a7e26e9",
   "metadata": {},
   "source": [
    "## Question 5: Plot Tesla Stock Graph"
   ]
  },
  {
   "cell_type": "code",
   "execution_count": 14,
   "id": "65fc6cdf",
   "metadata": {},
   "outputs": [],
   "source": [
    "app = dash.Dash(__name__)\n",
    "\n",
    "app.layout = html.Div([\n",
    "    dcc.Graph(id='tesla-stock-graph', figure=px.line(tesla_stock_data, x=tesla_stock_data.index, y='Close', title='Tesla Stock Price')),\n",
    "    dcc.Graph(id='tesla-revenue-graph', figure=px.line(x=[1, 2, 3], y=[3, 1, 2], title='Tesla Revenue')),  # Placeholder graph\n",
    "])"
   ]
  },
  {
   "cell_type": "code",
   "execution_count": 15,
   "id": "6ac76b15",
   "metadata": {},
   "outputs": [
    {
     "data": {
      "text/html": [
       "\n",
       "        <iframe\n",
       "            width=\"100%\"\n",
       "            height=\"650\"\n",
       "            src=\"http://127.0.0.1:8050/\"\n",
       "            frameborder=\"0\"\n",
       "            allowfullscreen\n",
       "            \n",
       "        ></iframe>\n",
       "        "
      ],
      "text/plain": [
       "<IPython.lib.display.IFrame at 0x1101abd3b50>"
      ]
     },
     "metadata": {},
     "output_type": "display_data"
    }
   ],
   "source": [
    "if __name__ == '__main__':\n",
    "    app.run_server(debug=True)"
   ]
  },
  {
   "cell_type": "markdown",
   "id": "9166b0ea",
   "metadata": {},
   "source": [
    "## Question 6: Plot GameStop Stock Graph"
   ]
  },
  {
   "cell_type": "code",
   "execution_count": 11,
   "id": "87c7342b",
   "metadata": {},
   "outputs": [],
   "source": [
    "app = dash.Dash(__name__)\n",
    "\n",
    "app.layout = html.Div([\n",
    "    dcc.Graph(id='gamestop-stock-graph', figure=px.line(gamestop_stock_data, x=gamestop_stock_data.index, y='Close', title='GameStop Stock Price')),\n",
    "    dcc.Graph(id='gamestop-revenue-graph', figure=px.line(x=[1, 2, 3], y=[3, 1, 2], title='GameStop Revenue')),  # Placeholder graph\n",
    "])\n",
    "\n"
   ]
  },
  {
   "cell_type": "code",
   "execution_count": 12,
   "id": "502c2e6f",
   "metadata": {},
   "outputs": [
    {
     "data": {
      "text/html": [
       "\n",
       "        <iframe\n",
       "            width=\"100%\"\n",
       "            height=\"650\"\n",
       "            src=\"http://127.0.0.1:8050/\"\n",
       "            frameborder=\"0\"\n",
       "            allowfullscreen\n",
       "            \n",
       "        ></iframe>\n",
       "        "
      ],
      "text/plain": [
       "<IPython.lib.display.IFrame at 0x1101a6438d0>"
      ]
     },
     "metadata": {},
     "output_type": "display_data"
    }
   ],
   "source": [
    "if __name__ == '__main__':\n",
    "    app.run_server(debug=True)"
   ]
  },
  {
   "cell_type": "code",
   "execution_count": null,
   "id": "ab793826",
   "metadata": {},
   "outputs": [],
   "source": []
  }
 ],
 "metadata": {
  "kernelspec": {
   "display_name": "Python 3 (ipykernel)",
   "language": "python",
   "name": "python3"
  },
  "language_info": {
   "codemirror_mode": {
    "name": "ipython",
    "version": 3
   },
   "file_extension": ".py",
   "mimetype": "text/x-python",
   "name": "python",
   "nbconvert_exporter": "python",
   "pygments_lexer": "ipython3",
   "version": "3.11.5"
  }
 },
 "nbformat": 4,
 "nbformat_minor": 5
}
